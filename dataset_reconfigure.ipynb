{
  "cells": [
    {
      "cell_type": "code",
      "execution_count": null,
      "metadata": {
        "id": "4CjTlWLeCd0w"
      },
      "outputs": [],
      "source": [
        "import json\n",
        "import shutil\n",
        "import os\n",
        "import numpy as np"
      ]
    },
    {
      "cell_type": "code",
      "execution_count": null,
      "metadata": {
        "id": "OlvtSRkNCmDW"
      },
      "outputs": [],
      "source": [
        "from google.colab import drive\n",
        "drive.mount('/content/drive')"
      ]
    },
    {
      "cell_type": "code",
      "execution_count": null,
      "metadata": {
        "id": "X2oiCs2_CxrI"
      },
      "outputs": [],
      "source": [
        "data_path = '/content/drive/MyDrive/init_dataset'\n",
        "image_path = data_path + '/images'\n",
        "annotation_path = data_path + '/annotations'\n",
        "folder_list = ['1.Frontback_W01', '2.Highway_M01', '3.Industrialroads_T01', '4.Kidzone_R02']\n",
        "class_list = ['Animals(Dolls)', 'Person', 'Garbage bag & sacks', 'Construction signs & Parking prohibited board', 'Traffic cone', 'Box', 'Stones on road', 'Pothole on road', 'Filled pothole', 'Manhole']"
      ]
    },
    {
      "cell_type": "code",
      "execution_count": 7,
      "metadata": {
        "id": "7S8qLAaxcop1"
      },
      "outputs": [],
      "source": [
        "for name in class_list:\n",
        "  os.mkdir(image_path+\"/\"+name)"
      ]
    },
    {
      "cell_type": "code",
      "execution_count": 8,
      "metadata": {
        "colab": {
          "base_uri": "https://localhost:8080/"
        },
        "id": "avfI_ttWdahL",
        "outputId": "2884801d-a22c-4a23-c463-8faebcbd53ed"
      },
      "outputs": [
        {
          "metadata": {
            "tags": null
          },
          "name": "stdout",
          "output_type": "stream",
          "text": [
            "1.Frontback_W01\n",
            "2.Highway_M01\n",
            "3.Industrialroads_T01\n",
            "4.Kidzone_R02\n"
          ]
        }
      ],
      "source": [
        "for folder in folder_list:\n",
        "  print(folder)\n",
        "  annotation_folder = annotation_path+'/'+folder\n",
        "  os.chdir(annotation_folder)\n",
        "  file_list = os.listdir()\n",
        "\n",
        "  for file in file_list:\n",
        "    image = file[:-10] + '.png'\n",
        "    file_path = annotation_folder + '/' + file\n",
        "    #print(file_path, end=\" \")\n",
        "    with open(file_path) as f:\n",
        "      data = json.load(f)\n",
        "      category_id = []\n",
        "      for l in range(len(data['annotations'])):\n",
        "        category_id=data['annotations'][l]['category_id']\n",
        "        shutil.copy(os.path.join(image_path+'/'+folder, image), os.path.join(image_path+'/'+class_list[category_id-1], image))\n",
        "      category_id = np.unique(category_id)"
      ]
    },
    {
      "cell_type": "code",
      "source": [
        "for c in class_list:\n",
        "  print(c, len(os.listdir(image_path+'/'+c)))"
      ],
      "metadata": {
        "colab": {
          "base_uri": "https://localhost:8080/"
        },
        "id": "q_4ER72HFR9w",
        "outputId": "bf661541-3b4b-4867-947e-b76dc44dd140"
      },
      "execution_count": 14,
      "outputs": [
        {
          "output_type": "stream",
          "name": "stdout",
          "text": [
            "Animals(Dolls) 1\n",
            "Person 2077\n",
            "Garbage bag & sacks 149\n",
            "Construction signs & Parking prohibited board 280\n",
            "Traffic cone 514\n",
            "Box 34\n",
            "Stones on road 20\n",
            "Pothole on road 217\n",
            "Filled pothole 451\n",
            "Manhole 1335\n"
          ]
        }
      ]
    }
  ],
  "metadata": {
    "colab": {
      "provenance": []
    },
    "kernelspec": {
      "display_name": "Python 3",
      "name": "python3"
    },
    "language_info": {
      "name": "python"
    }
  },
  "nbformat": 4,
  "nbformat_minor": 0
}